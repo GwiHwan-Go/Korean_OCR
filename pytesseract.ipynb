{
 "cells": [
  {
   "cell_type": "markdown",
   "metadata": {},
   "source": [
    "# Preparing for koean text extraction using pytesseract\n",
    "----------------------------------\n",
    "1. Download tesseract\n",
    "    Try one of these methods.\n",
    "\n",
    "    * brew install tesseract(MAC)\n",
    "\n",
    "    * download the tesseract through github\n",
    "\n",
    "    * sudo apt-get install tesseract\n",
    "\n",
    "\n",
    "2. Check whether the tesseract has installed or not\n",
    "    ```\n",
    "    tesseract -V\n",
    "    ```\n",
    "\n",
    "3. Check where the tess-data folder is.\n",
    "    ```\n",
    "    !tesseract --list-langs\n",
    "    ```\n",
    "    You can get the address of tessdata folder.\n",
    "\n",
    "    For me, it gives\n",
    "\n",
    "    \"/usr/local/share/tessdata/\"\n",
    "    \n",
    "    Also, it gives the list of available language options.\n",
    "\n",
    "4. Download korean or other language trained file from  [HEAR](https://github.com/tesseract-ocr)\n",
    "\n",
    "5. Move the traineddata to the tessdata folder.\n",
    "    ```\n",
    "    mv [downloaded_name] [tessdata folder address]\n",
    "    ```\n",
    "    Let's type again\n",
    "    ```\n",
    "    !tesseract --list-langs\n",
    "    ```\n",
    "    You can see the changed data option list.\n",
    "    "
   ]
  },
  {
   "cell_type": "code",
   "execution_count": 3,
   "metadata": {},
   "outputs": [],
   "source": [
    "# !pip install pytesseract\n",
    "import pytesseract as pt\n",
    "from PIL import Image \n",
    "import Local"
   ]
  },
  {
   "cell_type": "code",
   "execution_count": 2,
   "metadata": {},
   "outputs": [
    {
     "ename": "TesseractError",
     "evalue": "(1, 'Image too large: (1148, 51084) Error during processing.')",
     "output_type": "error",
     "traceback": [
      "\u001b[0;31m---------------------------------------------------------------------------\u001b[0m",
      "\u001b[0;31mTesseractError\u001b[0m                            Traceback (most recent call last)",
      "\u001b[0;32m/var/folders/jt/jg8f8t5d5l94gkq96yn3k41h0000gn/T/ipykernel_33210/991622906.py\u001b[0m in \u001b[0;36m<module>\u001b[0;34m\u001b[0m\n\u001b[1;32m      6\u001b[0m \u001b[0;31m# .convert(\"L\")\u001b[0m\u001b[0;34m\u001b[0m\u001b[0;34m\u001b[0m\u001b[0;34m\u001b[0m\u001b[0m\n\u001b[1;32m      7\u001b[0m \u001b[0;32mwith\u001b[0m \u001b[0mImage\u001b[0m\u001b[0;34m.\u001b[0m\u001b[0mopen\u001b[0m\u001b[0;34m(\u001b[0m\u001b[0mLocal\u001b[0m\u001b[0;34m.\u001b[0m\u001b[0mp3\u001b[0m\u001b[0;34m)\u001b[0m \u001b[0;32mas\u001b[0m \u001b[0mim\u001b[0m\u001b[0;34m:\u001b[0m\u001b[0;34m\u001b[0m\u001b[0;34m\u001b[0m\u001b[0m\n\u001b[0;32m----> 8\u001b[0;31m     \u001b[0mprint\u001b[0m\u001b[0;34m(\u001b[0m\u001b[0mpt\u001b[0m\u001b[0;34m.\u001b[0m\u001b[0mimage_to_string\u001b[0m\u001b[0;34m(\u001b[0m\u001b[0mim\u001b[0m\u001b[0;34m,\u001b[0m \u001b[0mlang\u001b[0m\u001b[0;34m=\u001b[0m\u001b[0;34m\"kor\"\u001b[0m\u001b[0;34m)\u001b[0m\u001b[0;34m)\u001b[0m\u001b[0;34m\u001b[0m\u001b[0;34m\u001b[0m\u001b[0m\n\u001b[0m",
      "\u001b[0;32m~/.pyenv/versions/3.7.3/lib/python3.7/site-packages/pytesseract/pytesseract.py\u001b[0m in \u001b[0;36mimage_to_string\u001b[0;34m(image, lang, config, nice, output_type, timeout)\u001b[0m\n\u001b[1;32m    418\u001b[0m         \u001b[0mOutput\u001b[0m\u001b[0;34m.\u001b[0m\u001b[0mDICT\u001b[0m\u001b[0;34m:\u001b[0m \u001b[0;32mlambda\u001b[0m\u001b[0;34m:\u001b[0m \u001b[0;34m{\u001b[0m\u001b[0;34m'text'\u001b[0m\u001b[0;34m:\u001b[0m \u001b[0mrun_and_get_output\u001b[0m\u001b[0;34m(\u001b[0m\u001b[0;34m*\u001b[0m\u001b[0margs\u001b[0m\u001b[0;34m)\u001b[0m\u001b[0;34m}\u001b[0m\u001b[0;34m,\u001b[0m\u001b[0;34m\u001b[0m\u001b[0;34m\u001b[0m\u001b[0m\n\u001b[1;32m    419\u001b[0m         \u001b[0mOutput\u001b[0m\u001b[0;34m.\u001b[0m\u001b[0mSTRING\u001b[0m\u001b[0;34m:\u001b[0m \u001b[0;32mlambda\u001b[0m\u001b[0;34m:\u001b[0m \u001b[0mrun_and_get_output\u001b[0m\u001b[0;34m(\u001b[0m\u001b[0;34m*\u001b[0m\u001b[0margs\u001b[0m\u001b[0;34m)\u001b[0m\u001b[0;34m,\u001b[0m\u001b[0;34m\u001b[0m\u001b[0;34m\u001b[0m\u001b[0m\n\u001b[0;32m--> 420\u001b[0;31m     }[output_type]()\n\u001b[0m\u001b[1;32m    421\u001b[0m \u001b[0;34m\u001b[0m\u001b[0m\n\u001b[1;32m    422\u001b[0m \u001b[0;34m\u001b[0m\u001b[0m\n",
      "\u001b[0;32m~/.pyenv/versions/3.7.3/lib/python3.7/site-packages/pytesseract/pytesseract.py\u001b[0m in \u001b[0;36m<lambda>\u001b[0;34m()\u001b[0m\n\u001b[1;32m    417\u001b[0m         \u001b[0mOutput\u001b[0m\u001b[0;34m.\u001b[0m\u001b[0mBYTES\u001b[0m\u001b[0;34m:\u001b[0m \u001b[0;32mlambda\u001b[0m\u001b[0;34m:\u001b[0m \u001b[0mrun_and_get_output\u001b[0m\u001b[0;34m(\u001b[0m\u001b[0;34m*\u001b[0m\u001b[0;34m(\u001b[0m\u001b[0margs\u001b[0m \u001b[0;34m+\u001b[0m \u001b[0;34m[\u001b[0m\u001b[0;32mTrue\u001b[0m\u001b[0;34m]\u001b[0m\u001b[0;34m)\u001b[0m\u001b[0;34m)\u001b[0m\u001b[0;34m,\u001b[0m\u001b[0;34m\u001b[0m\u001b[0;34m\u001b[0m\u001b[0m\n\u001b[1;32m    418\u001b[0m         \u001b[0mOutput\u001b[0m\u001b[0;34m.\u001b[0m\u001b[0mDICT\u001b[0m\u001b[0;34m:\u001b[0m \u001b[0;32mlambda\u001b[0m\u001b[0;34m:\u001b[0m \u001b[0;34m{\u001b[0m\u001b[0;34m'text'\u001b[0m\u001b[0;34m:\u001b[0m \u001b[0mrun_and_get_output\u001b[0m\u001b[0;34m(\u001b[0m\u001b[0;34m*\u001b[0m\u001b[0margs\u001b[0m\u001b[0;34m)\u001b[0m\u001b[0;34m}\u001b[0m\u001b[0;34m,\u001b[0m\u001b[0;34m\u001b[0m\u001b[0;34m\u001b[0m\u001b[0m\n\u001b[0;32m--> 419\u001b[0;31m         \u001b[0mOutput\u001b[0m\u001b[0;34m.\u001b[0m\u001b[0mSTRING\u001b[0m\u001b[0;34m:\u001b[0m \u001b[0;32mlambda\u001b[0m\u001b[0;34m:\u001b[0m \u001b[0mrun_and_get_output\u001b[0m\u001b[0;34m(\u001b[0m\u001b[0;34m*\u001b[0m\u001b[0margs\u001b[0m\u001b[0;34m)\u001b[0m\u001b[0;34m,\u001b[0m\u001b[0;34m\u001b[0m\u001b[0;34m\u001b[0m\u001b[0m\n\u001b[0m\u001b[1;32m    420\u001b[0m     }[output_type]()\n\u001b[1;32m    421\u001b[0m \u001b[0;34m\u001b[0m\u001b[0m\n",
      "\u001b[0;32m~/.pyenv/versions/3.7.3/lib/python3.7/site-packages/pytesseract/pytesseract.py\u001b[0m in \u001b[0;36mrun_and_get_output\u001b[0;34m(image, extension, lang, config, nice, timeout, return_bytes)\u001b[0m\n\u001b[1;32m    284\u001b[0m         }\n\u001b[1;32m    285\u001b[0m \u001b[0;34m\u001b[0m\u001b[0m\n\u001b[0;32m--> 286\u001b[0;31m         \u001b[0mrun_tesseract\u001b[0m\u001b[0;34m(\u001b[0m\u001b[0;34m**\u001b[0m\u001b[0mkwargs\u001b[0m\u001b[0;34m)\u001b[0m\u001b[0;34m\u001b[0m\u001b[0;34m\u001b[0m\u001b[0m\n\u001b[0m\u001b[1;32m    287\u001b[0m         \u001b[0mfilename\u001b[0m \u001b[0;34m=\u001b[0m \u001b[0mkwargs\u001b[0m\u001b[0;34m[\u001b[0m\u001b[0;34m'output_filename_base'\u001b[0m\u001b[0;34m]\u001b[0m \u001b[0;34m+\u001b[0m \u001b[0mextsep\u001b[0m \u001b[0;34m+\u001b[0m \u001b[0mextension\u001b[0m\u001b[0;34m\u001b[0m\u001b[0;34m\u001b[0m\u001b[0m\n\u001b[1;32m    288\u001b[0m         \u001b[0;32mwith\u001b[0m \u001b[0mopen\u001b[0m\u001b[0;34m(\u001b[0m\u001b[0mfilename\u001b[0m\u001b[0;34m,\u001b[0m \u001b[0;34m'rb'\u001b[0m\u001b[0;34m)\u001b[0m \u001b[0;32mas\u001b[0m \u001b[0moutput_file\u001b[0m\u001b[0;34m:\u001b[0m\u001b[0;34m\u001b[0m\u001b[0;34m\u001b[0m\u001b[0m\n",
      "\u001b[0;32m~/.pyenv/versions/3.7.3/lib/python3.7/site-packages/pytesseract/pytesseract.py\u001b[0m in \u001b[0;36mrun_tesseract\u001b[0;34m(input_filename, output_filename_base, extension, lang, config, nice, timeout)\u001b[0m\n\u001b[1;32m    260\u001b[0m     \u001b[0;32mwith\u001b[0m \u001b[0mtimeout_manager\u001b[0m\u001b[0;34m(\u001b[0m\u001b[0mproc\u001b[0m\u001b[0;34m,\u001b[0m \u001b[0mtimeout\u001b[0m\u001b[0;34m)\u001b[0m \u001b[0;32mas\u001b[0m \u001b[0merror_string\u001b[0m\u001b[0;34m:\u001b[0m\u001b[0;34m\u001b[0m\u001b[0;34m\u001b[0m\u001b[0m\n\u001b[1;32m    261\u001b[0m         \u001b[0;32mif\u001b[0m \u001b[0mproc\u001b[0m\u001b[0;34m.\u001b[0m\u001b[0mreturncode\u001b[0m\u001b[0;34m:\u001b[0m\u001b[0;34m\u001b[0m\u001b[0;34m\u001b[0m\u001b[0m\n\u001b[0;32m--> 262\u001b[0;31m             \u001b[0;32mraise\u001b[0m \u001b[0mTesseractError\u001b[0m\u001b[0;34m(\u001b[0m\u001b[0mproc\u001b[0m\u001b[0;34m.\u001b[0m\u001b[0mreturncode\u001b[0m\u001b[0;34m,\u001b[0m \u001b[0mget_errors\u001b[0m\u001b[0;34m(\u001b[0m\u001b[0merror_string\u001b[0m\u001b[0;34m)\u001b[0m\u001b[0;34m)\u001b[0m\u001b[0;34m\u001b[0m\u001b[0;34m\u001b[0m\u001b[0m\n\u001b[0m\u001b[1;32m    263\u001b[0m \u001b[0;34m\u001b[0m\u001b[0m\n\u001b[1;32m    264\u001b[0m \u001b[0;34m\u001b[0m\u001b[0m\n",
      "\u001b[0;31mTesseractError\u001b[0m: (1, 'Image too large: (1148, 51084) Error during processing.')"
     ]
    }
   ],
   "source": [
    "\n",
    "#data address\n",
    "# # .convert(\"L\")\n",
    "# with Image.open(Local.p3) as im:\n",
    "#     print(pt.image_to_string(im, lang=\"kor\"))\n"
   ]
  },
  {
   "cell_type": "code",
   "execution_count": 2,
   "metadata": {},
   "outputs": [
    {
     "name": "stdout",
     "output_type": "stream",
     "text": [
      "(1148, 51084)\n"
     ]
    }
   ],
   "source": [
    "with Image.open(Local.p3).convert(\"L\") as im:\n",
    "    print(im.size)\n",
    "    "
   ]
  },
  {
   "cell_type": "code",
   "execution_count": 6,
   "metadata": {},
   "outputs": [
    {
     "name": "stdout",
     "output_type": "stream",
     "text": [
      "발 소 리 만 들 어 도\n",
      "너 인 거 알 아 .\n",
      "\n",
      "그건 좀\n",
      "듣 기 좋 은 소 리 네 ?\n",
      "\n",
      "… 근 처 서 핑\n",
      "포 인 트 에\n",
      "태 훈 이 있 더 라 .\n",
      "\n",
      "둘 이 뭐 있 는 것\n",
      "같 던 데 .\n",
      "\n",
      "\n",
      "괜 히 열 받 는 거 야 .\n",
      "\n",
      "\n",
      "나 한 테 속 삭 였던 말\n",
      "그 대 로 그 남 자 애 한 테\n",
      "속 삭 이 면 서 .\n",
      "\n",
      "야\n",
      "\n",
      "\n",
      "내 가 물 에\n",
      "\n",
      "담 가 버 렸 다 는\n",
      "그 남 자 애 때 문 이 야 ?\n",
      "\n",
      "브\n",
      "분 탕 질\n",
      "\n",
      "。 ~ 울 로\n",
      "; 읊.{ 00\n",
      "\n",
      "나 보 러 돌 아 온 출\n",
      "\n",
      "알 았 더 니 ,\n",
      "\n",
      "\n",
      "… 힘 이 나 빼 .\n",
      "\n",
      "\n",
      "\n",
      "좋 은 사 람\n",
      "같 아 보 였 는 데 .\n",
      "\n",
      "그 남 자 의 의 중 을\n",
      "도 통 모 르 겠 습 니 다 .\n",
      "\n",
      "이건 벌 집 이 라 고 ,\n",
      "경 고 하 는 것 만\n",
      "같 습 니 다 .\n",
      "\n",
      "쉬 어 야 겠 어 요 .\n",
      "\n",
      "26 절 대 못 할 줄\n",
      "\n",
      ".. 그 럽 내 일 도\n",
      "태 훈 씨 가\n",
      "좋 아 하 는 거\n",
      "같 이 해 요 .\n",
      "\n",
      "아 , 애 인 생 기면 _ \\\n",
      "버 킷 리 스 트 같 은 거\n",
      "화 이 트 보 드에\n",
      "써 보는 게\n",
      "꿈 이 었 어 요 .\n",
      "\n",
      "이 근 처 에\n",
      "문 구 점 같 은 게\n",
      "있 을 까 요 ?\n",
      "\n",
      "같 이 가 서\n",
      "사 고 싶 은 데 .…\n",
      "\n",
      "애 , 애 인 .\n",
      "\n",
      ".… 연 우 씨 는 매 번\n",
      "뭐 든 빠 르 네 요 .\n",
      "\n",
      "우 , 우리\n",
      "사 귀는 거\n",
      "아 니 었 어 요 ?\n",
      "\n",
      "\n",
      "\n"
     ]
    }
   ],
   "source": [
    "num=10\n",
    "with Image.open(Local.p2).convert(\"L\") as im:\n",
    "    for i in range(num) :\n",
    "        cropped = im.crop((0,im.size[1]//num*i,im.size[0],im.size[1]//num*(i+1)))\n",
    "        print(pt.image_to_string(cropped, lang=\"kor\"))\n",
    "    # print(pt.image_to_string(cropped, lang=\"kor\"))"
   ]
  }
 ],
 "metadata": {
  "interpreter": {
   "hash": "d4b10d77f063ea7c690ae79af4b47611cdf22b4ae6c3604143fe18c412509b5a"
  },
  "kernelspec": {
   "display_name": "torch_cv",
   "language": "python",
   "name": "torch_cv"
  },
  "language_info": {
   "codemirror_mode": {
    "name": "ipython",
    "version": 3
   },
   "file_extension": ".py",
   "mimetype": "text/x-python",
   "name": "python",
   "nbconvert_exporter": "python",
   "pygments_lexer": "ipython3",
   "version": "3.7.3"
  },
  "orig_nbformat": 4
 },
 "nbformat": 4,
 "nbformat_minor": 2
}
