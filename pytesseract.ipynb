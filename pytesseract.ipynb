{
 "cells": [
  {
   "cell_type": "markdown",
   "metadata": {},
   "source": [
    "# Preparing for koean text extraction using pytesseract\n",
    "* * \n",
    "1. Download tesseract\n",
    "    Try one of these methods.\n",
    "    * brew install tesseract(MAC)\n",
    "    * download the tesseract through github\n",
    "    * sudo apt-get install tesseract\n",
    "\n",
    "2. Check whether the tesseract has installed or not\n",
    "    ```\n",
    "    tesseract -V\n",
    "    ```\n",
    "\n",
    "3. Check where the tess-data folder is.\n",
    "    ```\n",
    "    !tesseract --list-langs\n",
    "    ```\n",
    "    You can get the address of tessdata folder.\n",
    "\n",
    "    For me, it gives\n",
    "\n",
    "    \"/usr/local/share/tessdata/\"\n",
    "    \n",
    "    Also, it gives the list of available language options.\n",
    "\n",
    "4. Download korean or other language trained file from  [HEAR](https://github.com/tesseract-ocr)\n",
    "\n",
    "5. Move the traineddata to the tessdata folder.\n",
    "    ```\n",
    "    mv [downloaded_name] [tessdata folder address]\n",
    "    ```\n",
    "    Let's type again\n",
    "    ```\n",
    "    !tesseract --list-langs\n",
    "    ```\n",
    "    You can see the changed data option list.\n",
    "    "
   ]
  },
  {
   "cell_type": "code",
   "execution_count": 22,
   "metadata": {},
   "outputs": [
    {
     "name": "stdout",
     "output_type": "stream",
     "text": [
      "네 가 너 무 잘 해 서\n",
      "상 대 방이\n",
      "어 펄 줄 몰 라 하 는\n",
      "\n"
     ]
    }
   ],
   "source": [
    "\n",
    "# !pip install pytesseract\n",
    "import pytesseract as pt\n",
    "from PIL import Image \n",
    "import Local #data address\n",
    "\n",
    "with Image.open(Local.p1).convert(\"L\") as im:\n",
    "    print(pt.image_to_string(im, lang=\"kor\"))\n"
   ]
  },
  {
   "cell_type": "code",
   "execution_count": 18,
   "metadata": {},
   "outputs": [
    {
     "data": {
      "text/plain": [
       "'/Users/gwihwango/Documents/GitHub/Korean_OCR'"
      ]
     },
     "execution_count": 18,
     "metadata": {},
     "output_type": "execute_result"
    }
   ],
   "source": [
    "import os\n",
    "os.getcwd()"
   ]
  },
  {
   "cell_type": "code",
   "execution_count": null,
   "metadata": {},
   "outputs": [],
   "source": []
  }
 ],
 "metadata": {
  "interpreter": {
   "hash": "d4b10d77f063ea7c690ae79af4b47611cdf22b4ae6c3604143fe18c412509b5a"
  },
  "kernelspec": {
   "display_name": "torch_cv",
   "language": "python",
   "name": "torch_cv"
  },
  "language_info": {
   "codemirror_mode": {
    "name": "ipython",
    "version": 3
   },
   "file_extension": ".py",
   "mimetype": "text/x-python",
   "name": "python",
   "nbconvert_exporter": "python",
   "pygments_lexer": "ipython3",
   "version": "3.7.3"
  },
  "orig_nbformat": 4
 },
 "nbformat": 4,
 "nbformat_minor": 2
}
